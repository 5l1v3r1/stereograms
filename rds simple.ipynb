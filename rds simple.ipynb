{
 "cells": [
  {
   "cell_type": "code",
   "execution_count": 64,
   "metadata": {
    "collapsed": true
   },
   "outputs": [],
   "source": [
    "import matplotlib.pyplot as plt\n",
    "import matplotlib.image as mpimg\n",
    "%matplotlib inline\n",
    "import numpy as np"
   ]
  },
  {
   "cell_type": "code",
   "execution_count": 2,
   "metadata": {
    "collapsed": false
   },
   "outputs": [
    {
     "name": "stdout",
     "output_type": "stream",
     "text": [
      "1\n"
     ]
    },
    {
     "data": {
      "text/plain": [
       "<matplotlib.image.AxesImage at 0x109ac21d0>"
      ]
     },
     "execution_count": 2,
     "metadata": {},
     "output_type": "execute_result"
    },
    {
     "data": {
      "image/png": "[encoded data removed]",
      "text/plain": [
       "<matplotlib.figure.Figure at 0x109998510>"
      ]
     },
     "metadata": {},
     "output_type": "display_data"
    }
   ],
   "source": [
    "tw = 30\n",
    "th = 2*tw\n",
    "right = np.random.randint(2, size=[th,tw])\n",
    "divider = np.zeros((th, 3))\n",
    "left = right.copy()\n",
    "\n",
    "#add pop-out\n",
    "x, y, w, h = tw/4, th/4, tw/2, th/2\n",
    "shift = w/20 + 1\n",
    "print shift\n",
    "shading = 0\n",
    "right[y:y+h,x-shift:x+w-shift] = left[y:y+h,x:x+w] + shading\n",
    "left[y:y+h,x:x+w] += shading\n",
    "# left[y:y+h,x:x+w] +=1\n",
    "#  = np.ones((30,30)) #np.random.randint(2, size=[10,20])\n",
    "\n",
    "combo = np.concatenate((left, divider, right), axis = 1)\n",
    "plt.imshow(combo, cmap='Greys',  interpolation='nearest', aspect='equal')"
   ]
  },
  {
   "cell_type": "code",
   "execution_count": 63,
   "metadata": {
    "collapsed": false
   },
   "outputs": [
    {
     "name": "stdout",
     "output_type": "stream",
     "text": [
      "5.0\n",
      "25\n"
     ]
    },
    {
     "data": {
      "text/plain": [
       "<matplotlib.image.AxesImage at 0x10c08fc90>"
      ]
     },
     "execution_count": 63,
     "metadata": {},
     "output_type": "execute_result"
    },
    {
     "data": {
      "image/png": "[encoded data removed]",
      "text/plain": [
       "<matplotlib.figure.Figure at 0x10c130350>"
      ]
     },
     "metadata": {},
     "output_type": "display_data"
    }
   ],
   "source": [
    "tw = 50\n",
    "th = int(2*tw)\n",
    "\n",
    "panels = []\n",
    "\n",
    "bkg = np.random.randint(2, size=[th,tw])\n",
    "panels.append(bkg)\n",
    "# divider = np.zeros((th, 3))\n",
    "\n",
    "# lines = np.zeros_like(bkg)\n",
    "# for i in range(lines.shape[1]):\n",
    "#     lines[:,i] = i%2\n",
    "# bkg = lines \n",
    "\n",
    "#make depth mask\n",
    "fringe = th/3\n",
    "shift = tw/10\n",
    "shading = 1\n",
    "dmask = np.zeros( (bkg.shape[0],bkg.shape[0]*4) )\n",
    "dmask[fringe:-fringe,fringe:-fringe] =  -shift #( -1 * np.cumsum(np.ones((h,w)),axis = 0) / 5 ).astype(int)\n",
    "print np.max(np.abs(dmask))\n",
    "\n",
    "# #create pop out panels\n",
    "for i in range(4):\n",
    "    target = bkg.copy()\n",
    "    dmask_slice = dmask[:,i*tw:i*tw+tw]\n",
    "    for i in range(target.shape[1]):\n",
    "        row_i = ( np.cumsum(np.ones(target.shape[0])) - 1).astype(int)\n",
    "        col_i = ( i + dmask_slice[:,i] ).astype(int)\n",
    "        target[row_i,col_i] = bkg[:,i]\n",
    "    panels.append(target)\n",
    "\n",
    "combo = np.concatenate((panels), axis = 1)\n",
    "one_panel = np.zeros((th/10,tw))\n",
    "print one_panel.shape[1]/2\n",
    "fixation_square_width = one_panel.shape[1]/2 + np.array(range(-one_panel.shape[0]/8, one_panel.shape[0]/8))\n",
    "one_panel[:,fixation_square_width] = np.max(combo)\n",
    "legend = one_panel\n",
    "for i in range(len(panels) - 1):\n",
    "    legend = np.concatenate((legend,one_panel),axis=1)\n",
    "\n",
    "rds = np.concatenate((legend, combo), axis = 0)\n",
    "plt.imshow(rds, cmap='Greys',  interpolation='nearest', aspect='equal')"
   ]
  },
  {
   "cell_type": "code",
   "execution_count": null,
   "metadata": {
    "collapsed": false
   },
   "outputs": [],
   "source": [
    "a = np.array([[1,2],[3,4]])\n",
    "b = np.array([0,1])\n",
    "a[np.array([0,1]),np.array([0,1])] = 3\n",
    "print np.array([0,1]).shape\n",
    "print a"
   ]
  },
  {
   "cell_type": "code",
   "execution_count": null,
   "metadata": {
    "collapsed": true
   },
   "outputs": [],
   "source": []
  }
 ],
 "metadata": {
  "kernelspec": {
   "display_name": "Python 2",
   "language": "python",
   "name": "python2"
  },
  "language_info": {
   "codemirror_mode": {
    "name": "ipython",
    "version": 2
   },
   "file_extension": ".py",
   "mimetype": "text/x-python",
   "name": "python",
   "nbconvert_exporter": "python",
   "pygments_lexer": "ipython2",
   "version": "2.7.10"
  }
 },
 "nbformat": 4,
 "nbformat_minor": 0
}
