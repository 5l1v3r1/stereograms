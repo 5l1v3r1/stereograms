{
 "cells": [
  {
   "cell_type": "code",
   "execution_count": 1,
   "metadata": {
    "collapsed": true
   },
   "outputs": [],
   "source": [
    "import numpy as np\n",
    "from PIL import Image\n",
    "import matplotlib.pyplot as plt\n",
    "%matplotlib inline"
   ]
  },
  {
   "cell_type": "code",
   "execution_count": 23,
   "metadata": {
    "collapsed": false
   },
   "outputs": [],
   "source": [
    "# Create an autostereogram from a depth mask and a pattern\n",
    "def random_dot(mask_name, pattern_reps=10, invert=False):\n",
    "    invert_factor = -1 if invert else 1\n",
    "    \n",
    "    depth_mask = Image.open(mask_name).convert(\"RGB\")\n",
    "    depth_mask_data = depth_mask.load()\n",
    "    depth_mask.save(\"rbg.png\")\n",
    "    \n",
    "    pattern_w = depth_mask.size[0] / pattern_reps\n",
    "    pattern_h = depth_mask.size[1]\n",
    "    print pattern_w, pattern_h\n",
    "    pattern = np.random.randint(0, 256, (pattern_w, pattern_h))\n",
    "    \n",
    "    output = Image.new(\"L\", depth_mask.size)\n",
    "    output_data = output.load()\n",
    "    \n",
    "    for x in xrange(0, depth_mask.size[0]):\n",
    "        for y in xrange(0, depth_mask.size[1]):\n",
    "            \n",
    "            #copy the pattern into the leftmost part of the ouput image\n",
    "            if x < pattern_w:\n",
    "                output_data[x, y] = pattern[x, y]\n",
    "                \n",
    "            # continuously copy the pixels from the preceding iteration\n",
    "            # of the pattern into the next set of columns, making stereotpic\n",
    "            # shifts as necessary\n",
    "            else:\n",
    "                shift = depth_mask_data[x, y][0] / pattern_reps\n",
    "                output_data[x, y] = output_data[(x - pattern_w + (shift*invert_factor)), y]\n",
    "    return output"
   ]
  },
  {
   "cell_type": "code",
   "execution_count": 24,
   "metadata": {
    "collapsed": false
   },
   "outputs": [
    {
     "name": "stdout",
     "output_type": "stream",
     "text": [
      "80 400\n"
     ]
    }
   ],
   "source": [
    "mask_name = \"shark.png\"\n",
    "\n",
    "out_img = random_dot(mask_name)\n",
    "out_img.save(\"static_shark.png\")"
   ]
  },
  {
   "cell_type": "code",
   "execution_count": 25,
   "metadata": {
    "collapsed": true
   },
   "outputs": [],
   "source": [
    "# Create an autostereogram from a depth mask and a pattern\n",
    "def repeated_image(mask_name, pattern_name, invert=False):\n",
    "    invert_factor = -1 if invert else 1\n",
    "    \n",
    "    depth_mask = Image.open(mask_name).convert(\"RGB\")\n",
    "    depth_mask_data = depth_mask.load()\n",
    "    \n",
    "    pattern = Image.open(pattern_name).convert(\"RGB\")\n",
    "    pattern_w = 100 #pattern.size[0]\n",
    "    pattern_h = pattern.size[1]\n",
    "    pattern = np.random.randint(0, 256, (pattern_w, pattern_h,1)) #pattern.load()\n",
    "    \n",
    "#     print pattern[0,0][0]\n",
    "    pattern_reps = depth_mask.size[1] / pattern_w\n",
    "    \n",
    "    depth_mask = Image.open(mask_name).convert(\"RGB\")\n",
    "    depth_mask_data = depth_mask.load()\n",
    "    \n",
    "    output = Image.new(\"L\", depth_mask.size)\n",
    "    output_data = output.load()\n",
    "    \n",
    "    for x in xrange(0, depth_mask.size[0]):\n",
    "        for y in xrange(0, depth_mask.size[1]):\n",
    "            \n",
    "            #copy the pattern into the upper left part of the output image\n",
    "            if x < pattern_w:\n",
    "                output_data[x, y] = pattern[x, y%pattern_h][0]\n",
    "                \n",
    "            # continuously copy the pixels from the preceding iteration\n",
    "            # of the pattern into the next set of columns, making stereotpic\n",
    "            # shifts as necessary\n",
    "            else:\n",
    "                shift = depth_mask_data[x, y][0] / pattern_reps\n",
    "                output_data[x, y] = output_data[x - pattern_w + (shift * invert_factor), y%pattern_h]\n",
    "    return output"
   ]
  },
  {
   "cell_type": "code",
   "execution_count": 26,
   "metadata": {
    "collapsed": false
   },
   "outputs": [],
   "source": [
    "mask_name = \"shark.png\"\n",
    "pattern_name = \"lines.jpg\"\n",
    "\n",
    "out_img = repeated_image(mask_name, pattern_name)\n",
    "out_img.save(\"line_shark.png\")"
   ]
  },
  {
   "cell_type": "code",
   "execution_count": null,
   "metadata": {
    "collapsed": false
   },
   "outputs": [],
   "source": [
    "plt.imshow(out_img)"
   ]
  },
  {
   "cell_type": "code",
   "execution_count": null,
   "metadata": {
    "collapsed": false
   },
   "outputs": [],
   "source": [
    "#value_when_true if condition else value_when_false\n",
    "invert = False\n",
    "invert_factor = 1 if invert else -1\n",
    "print invert_factor"
   ]
  },
  {
   "cell_type": "code",
   "execution_count": null,
   "metadata": {
    "collapsed": true
   },
   "outputs": [],
   "source": [
    "    for y in range(height):\n",
    "        # Copy in one strip worth of background image, as left-padding for the\n",
    "        # depth map.\n",
    "        for x in range(strip_width):\n",
    "            image_pixels[x, y] = strip_pixels[x, y]\n",
    "\n",
    "        # Copy in the pixels for the depth map, offset horizontally by their depth.\n",
    "        for x in range(depth_map_width):\n",
    "            depth_offset = round(depth_pixels[x, y] * levels / 255.0)\n",
    "            offset = x + strip_width\n",
    "            image_pixels[offset, y] = image_pixels[x + depth_offset, y]\n",
    "\n",
    "        # Fill in one strip to the right of the depth map as right-padding.\n",
    "        for x in range(strip_width):\n",
    "            offset = depth_map_width + strip_width + x\n",
    "            image_pixels[offset, y] = image_pixels[offset - strip_width, y]\n",
    "\n",
    "    return image"
   ]
  }
 ],
 "metadata": {
  "kernelspec": {
   "display_name": "Python 2",
   "language": "python",
   "name": "python2"
  },
  "language_info": {
   "codemirror_mode": {
    "name": "ipython",
    "version": 2
   },
   "file_extension": ".py",
   "mimetype": "text/x-python",
   "name": "python",
   "nbconvert_exporter": "python",
   "pygments_lexer": "ipython2",
   "version": "2.7.10"
  }
 },
 "nbformat": 4,
 "nbformat_minor": 0
}
